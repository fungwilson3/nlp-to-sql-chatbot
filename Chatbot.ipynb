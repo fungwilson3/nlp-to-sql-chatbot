{
 "cells": [
  {
   "cell_type": "code",
   "execution_count": 1,
   "id": "6573ed0f",
   "metadata": {},
   "outputs": [],
   "source": [
    "# !pip install gradio\n",
    "# !pip install streamlit\n",
    "# !pip install openai==0.28\n",
    "\n",
    "# !pip install gradio\n",
    "\n",
    "# !pip install pandas._typing #may or may not be necessary"
   ]
  },
  {
   "cell_type": "code",
   "execution_count": 11,
   "id": "aa07353d",
   "metadata": {},
   "outputs": [],
   "source": [
    "import sqlite3  # For SQLite\n",
    "import psycopg2  # For PostgreSQL\n",
    "import pymysql  # For MySQL\n",
    "# import pyodbc  # For Microsoft SQL Server\n",
    "\n",
    "import csv\n",
    "import pandas as pd\n",
    "import numpy as np"
   ]
  },
  {
   "cell_type": "code",
   "execution_count": null,
   "id": "7a38e093",
   "metadata": {},
   "outputs": [],
   "source": []
  },
  {
   "cell_type": "markdown",
   "id": "a61c8a58",
   "metadata": {},
   "source": [
    "## Loading Sample Dataset"
   ]
  },
  {
   "cell_type": "code",
   "execution_count": 63,
   "id": "9b5207e9",
   "metadata": {},
   "outputs": [
    {
     "name": "stderr",
     "output_type": "stream",
     "text": [
      "/Users/angus/opt/anaconda3/lib/python3.8/site-packages/IPython/core/interactiveshell.py:3437: DtypeWarning: Columns (23) have mixed types.Specify dtype option on import or set low_memory=False.\n",
      "  exec(code_obj, self.user_global_ns, self.user_ns)\n"
     ]
    },
    {
     "data": {
      "text/html": [
       "<div>\n",
       "<style scoped>\n",
       "    .dataframe tbody tr th:only-of-type {\n",
       "        vertical-align: middle;\n",
       "    }\n",
       "\n",
       "    .dataframe tbody tr th {\n",
       "        vertical-align: top;\n",
       "    }\n",
       "\n",
       "    .dataframe thead th {\n",
       "        text-align: right;\n",
       "    }\n",
       "</style>\n",
       "<table border=\"1\" class=\"dataframe\">\n",
       "  <thead>\n",
       "    <tr style=\"text-align: right;\">\n",
       "      <th></th>\n",
       "      <th>index</th>\n",
       "      <th>Order ID</th>\n",
       "      <th>Date</th>\n",
       "      <th>Status</th>\n",
       "      <th>Fulfilment</th>\n",
       "      <th>Sales Channel</th>\n",
       "      <th>ship-service-level</th>\n",
       "      <th>Style</th>\n",
       "      <th>SKU</th>\n",
       "      <th>Category</th>\n",
       "      <th>...</th>\n",
       "      <th>currency</th>\n",
       "      <th>Amount</th>\n",
       "      <th>ship-city</th>\n",
       "      <th>ship-state</th>\n",
       "      <th>ship-postal-code</th>\n",
       "      <th>ship-country</th>\n",
       "      <th>promotion-ids</th>\n",
       "      <th>B2B</th>\n",
       "      <th>fulfilled-by</th>\n",
       "      <th>Unnamed: 22</th>\n",
       "    </tr>\n",
       "  </thead>\n",
       "  <tbody>\n",
       "    <tr>\n",
       "      <th>0</th>\n",
       "      <td>0</td>\n",
       "      <td>405-8078784-5731545</td>\n",
       "      <td>04-30-22</td>\n",
       "      <td>Cancelled</td>\n",
       "      <td>Merchant</td>\n",
       "      <td>Amazon.in</td>\n",
       "      <td>Standard</td>\n",
       "      <td>SET389</td>\n",
       "      <td>SET389-KR-NP-S</td>\n",
       "      <td>Set</td>\n",
       "      <td>...</td>\n",
       "      <td>INR</td>\n",
       "      <td>647.62</td>\n",
       "      <td>MUMBAI</td>\n",
       "      <td>MAHARASHTRA</td>\n",
       "      <td>400081.0</td>\n",
       "      <td>IN</td>\n",
       "      <td>NaN</td>\n",
       "      <td>False</td>\n",
       "      <td>Easy Ship</td>\n",
       "      <td>NaN</td>\n",
       "    </tr>\n",
       "    <tr>\n",
       "      <th>1</th>\n",
       "      <td>1</td>\n",
       "      <td>171-9198151-1101146</td>\n",
       "      <td>04-30-22</td>\n",
       "      <td>Shipped - Delivered to Buyer</td>\n",
       "      <td>Merchant</td>\n",
       "      <td>Amazon.in</td>\n",
       "      <td>Standard</td>\n",
       "      <td>JNE3781</td>\n",
       "      <td>JNE3781-KR-XXXL</td>\n",
       "      <td>kurta</td>\n",
       "      <td>...</td>\n",
       "      <td>INR</td>\n",
       "      <td>406.00</td>\n",
       "      <td>BENGALURU</td>\n",
       "      <td>KARNATAKA</td>\n",
       "      <td>560085.0</td>\n",
       "      <td>IN</td>\n",
       "      <td>Amazon PLCC Free-Financing Universal Merchant ...</td>\n",
       "      <td>False</td>\n",
       "      <td>Easy Ship</td>\n",
       "      <td>NaN</td>\n",
       "    </tr>\n",
       "    <tr>\n",
       "      <th>2</th>\n",
       "      <td>2</td>\n",
       "      <td>404-0687676-7273146</td>\n",
       "      <td>04-30-22</td>\n",
       "      <td>Shipped</td>\n",
       "      <td>Amazon</td>\n",
       "      <td>Amazon.in</td>\n",
       "      <td>Expedited</td>\n",
       "      <td>JNE3371</td>\n",
       "      <td>JNE3371-KR-XL</td>\n",
       "      <td>kurta</td>\n",
       "      <td>...</td>\n",
       "      <td>INR</td>\n",
       "      <td>329.00</td>\n",
       "      <td>NAVI MUMBAI</td>\n",
       "      <td>MAHARASHTRA</td>\n",
       "      <td>410210.0</td>\n",
       "      <td>IN</td>\n",
       "      <td>IN Core Free Shipping 2015/04/08 23-48-5-108</td>\n",
       "      <td>True</td>\n",
       "      <td>NaN</td>\n",
       "      <td>NaN</td>\n",
       "    </tr>\n",
       "    <tr>\n",
       "      <th>3</th>\n",
       "      <td>3</td>\n",
       "      <td>403-9615377-8133951</td>\n",
       "      <td>04-30-22</td>\n",
       "      <td>Cancelled</td>\n",
       "      <td>Merchant</td>\n",
       "      <td>Amazon.in</td>\n",
       "      <td>Standard</td>\n",
       "      <td>J0341</td>\n",
       "      <td>J0341-DR-L</td>\n",
       "      <td>Western Dress</td>\n",
       "      <td>...</td>\n",
       "      <td>INR</td>\n",
       "      <td>753.33</td>\n",
       "      <td>PUDUCHERRY</td>\n",
       "      <td>PUDUCHERRY</td>\n",
       "      <td>605008.0</td>\n",
       "      <td>IN</td>\n",
       "      <td>NaN</td>\n",
       "      <td>False</td>\n",
       "      <td>Easy Ship</td>\n",
       "      <td>NaN</td>\n",
       "    </tr>\n",
       "    <tr>\n",
       "      <th>4</th>\n",
       "      <td>4</td>\n",
       "      <td>407-1069790-7240320</td>\n",
       "      <td>04-30-22</td>\n",
       "      <td>Shipped</td>\n",
       "      <td>Amazon</td>\n",
       "      <td>Amazon.in</td>\n",
       "      <td>Expedited</td>\n",
       "      <td>JNE3671</td>\n",
       "      <td>JNE3671-TU-XXXL</td>\n",
       "      <td>Top</td>\n",
       "      <td>...</td>\n",
       "      <td>INR</td>\n",
       "      <td>574.00</td>\n",
       "      <td>CHENNAI</td>\n",
       "      <td>TAMIL NADU</td>\n",
       "      <td>600073.0</td>\n",
       "      <td>IN</td>\n",
       "      <td>NaN</td>\n",
       "      <td>False</td>\n",
       "      <td>NaN</td>\n",
       "      <td>NaN</td>\n",
       "    </tr>\n",
       "  </tbody>\n",
       "</table>\n",
       "<p>5 rows × 24 columns</p>\n",
       "</div>"
      ],
      "text/plain": [
       "   index             Order ID      Date                        Status  \\\n",
       "0      0  405-8078784-5731545  04-30-22                     Cancelled   \n",
       "1      1  171-9198151-1101146  04-30-22  Shipped - Delivered to Buyer   \n",
       "2      2  404-0687676-7273146  04-30-22                       Shipped   \n",
       "3      3  403-9615377-8133951  04-30-22                     Cancelled   \n",
       "4      4  407-1069790-7240320  04-30-22                       Shipped   \n",
       "\n",
       "  Fulfilment Sales Channel  ship-service-level    Style              SKU  \\\n",
       "0   Merchant      Amazon.in           Standard   SET389   SET389-KR-NP-S   \n",
       "1   Merchant      Amazon.in           Standard  JNE3781  JNE3781-KR-XXXL   \n",
       "2     Amazon      Amazon.in          Expedited  JNE3371    JNE3371-KR-XL   \n",
       "3   Merchant      Amazon.in           Standard    J0341       J0341-DR-L   \n",
       "4     Amazon      Amazon.in          Expedited  JNE3671  JNE3671-TU-XXXL   \n",
       "\n",
       "        Category  ... currency  Amount    ship-city   ship-state  \\\n",
       "0            Set  ...      INR  647.62       MUMBAI  MAHARASHTRA   \n",
       "1          kurta  ...      INR  406.00    BENGALURU    KARNATAKA   \n",
       "2          kurta  ...      INR  329.00  NAVI MUMBAI  MAHARASHTRA   \n",
       "3  Western Dress  ...      INR  753.33   PUDUCHERRY   PUDUCHERRY   \n",
       "4            Top  ...      INR  574.00      CHENNAI   TAMIL NADU   \n",
       "\n",
       "  ship-postal-code  ship-country  \\\n",
       "0         400081.0            IN   \n",
       "1         560085.0            IN   \n",
       "2         410210.0            IN   \n",
       "3         605008.0            IN   \n",
       "4         600073.0            IN   \n",
       "\n",
       "                                       promotion-ids    B2B  fulfilled-by  \\\n",
       "0                                                NaN  False     Easy Ship   \n",
       "1  Amazon PLCC Free-Financing Universal Merchant ...  False     Easy Ship   \n",
       "2       IN Core Free Shipping 2015/04/08 23-48-5-108   True           NaN   \n",
       "3                                                NaN  False     Easy Ship   \n",
       "4                                                NaN  False           NaN   \n",
       "\n",
       "  Unnamed: 22  \n",
       "0         NaN  \n",
       "1         NaN  \n",
       "2         NaN  \n",
       "3         NaN  \n",
       "4         NaN  \n",
       "\n",
       "[5 rows x 24 columns]"
      ]
     },
     "execution_count": 63,
     "metadata": {},
     "output_type": "execute_result"
    }
   ],
   "source": [
    "df = pd.read_csv('Amazon Sale Report.csv')\n",
    "df.head()"
   ]
  },
  {
   "cell_type": "code",
   "execution_count": 70,
   "id": "6f2f64ae",
   "metadata": {
    "scrolled": false
   },
   "outputs": [
    {
     "data": {
      "text/plain": [
       "index                          int64\n",
       "Order ID                      object\n",
       "Date                  datetime64[ns]\n",
       "Status                        object\n",
       "Fulfilment                    object\n",
       "Sales Channel                 object\n",
       "ship-service-level            object\n",
       "Style                         object\n",
       "SKU                           object\n",
       "Category                      object\n",
       "Size                          object\n",
       "ASIN                          object\n",
       "Courier Status                object\n",
       "Qty                            int64\n",
       "currency                      object\n",
       "Amount                       float64\n",
       "ship-city                     object\n",
       "ship-state                    object\n",
       "ship-postal-code             float64\n",
       "ship-country                  object\n",
       "promotion-ids                 object\n",
       "B2B                             bool\n",
       "fulfilled-by                  object\n",
       "Unnamed: 22                   object\n",
       "dtype: object"
      ]
     },
     "execution_count": 70,
     "metadata": {},
     "output_type": "execute_result"
    }
   ],
   "source": [
    "## Checking Types of Data in the dataset\n",
    "\n",
    "df.dtypes"
   ]
  },
  {
   "cell_type": "code",
   "execution_count": 72,
   "id": "48c6b21d",
   "metadata": {
    "scrolled": true
   },
   "outputs": [],
   "source": [
    "## Converting Dates to Datetime objects\n",
    "\n",
    "df[\"Date\"] = pd.to_datetime(df['Date'])"
   ]
  },
  {
   "cell_type": "code",
   "execution_count": 76,
   "id": "deafa8a7",
   "metadata": {
    "scrolled": true
   },
   "outputs": [
    {
     "name": "stderr",
     "output_type": "stream",
     "text": [
      "<ipython-input-76-c52d5a49707e>:3: FutureWarning: Treating datetime data as categorical rather than numeric in `.describe` is deprecated and will be removed in a future version of pandas. Specify `datetime_is_numeric=True` to silence this warning and adopt the future behavior now.\n",
      "  df[[\"Date\"]].describe()\n"
     ]
    },
    {
     "data": {
      "text/html": [
       "<div>\n",
       "<style scoped>\n",
       "    .dataframe tbody tr th:only-of-type {\n",
       "        vertical-align: middle;\n",
       "    }\n",
       "\n",
       "    .dataframe tbody tr th {\n",
       "        vertical-align: top;\n",
       "    }\n",
       "\n",
       "    .dataframe thead th {\n",
       "        text-align: right;\n",
       "    }\n",
       "</style>\n",
       "<table border=\"1\" class=\"dataframe\">\n",
       "  <thead>\n",
       "    <tr style=\"text-align: right;\">\n",
       "      <th></th>\n",
       "      <th>Date</th>\n",
       "    </tr>\n",
       "  </thead>\n",
       "  <tbody>\n",
       "    <tr>\n",
       "      <th>count</th>\n",
       "      <td>128975</td>\n",
       "    </tr>\n",
       "    <tr>\n",
       "      <th>unique</th>\n",
       "      <td>91</td>\n",
       "    </tr>\n",
       "    <tr>\n",
       "      <th>top</th>\n",
       "      <td>2022-05-03 00:00:00</td>\n",
       "    </tr>\n",
       "    <tr>\n",
       "      <th>freq</th>\n",
       "      <td>2085</td>\n",
       "    </tr>\n",
       "    <tr>\n",
       "      <th>first</th>\n",
       "      <td>2022-03-31 00:00:00</td>\n",
       "    </tr>\n",
       "    <tr>\n",
       "      <th>last</th>\n",
       "      <td>2022-06-29 00:00:00</td>\n",
       "    </tr>\n",
       "  </tbody>\n",
       "</table>\n",
       "</div>"
      ],
      "text/plain": [
       "                       Date\n",
       "count                128975\n",
       "unique                   91\n",
       "top     2022-05-03 00:00:00\n",
       "freq                   2085\n",
       "first   2022-03-31 00:00:00\n",
       "last    2022-06-29 00:00:00"
      ]
     },
     "execution_count": 76,
     "metadata": {},
     "output_type": "execute_result"
    }
   ],
   "source": [
    "## Checking range of date values in the dataset\n",
    "\n",
    "df[[\"Date\"]].describe()"
   ]
  },
  {
   "cell_type": "code",
   "execution_count": 77,
   "id": "b5628704",
   "metadata": {
    "scrolled": true
   },
   "outputs": [
    {
     "data": {
      "text/html": [
       "<div>\n",
       "<style scoped>\n",
       "    .dataframe tbody tr th:only-of-type {\n",
       "        vertical-align: middle;\n",
       "    }\n",
       "\n",
       "    .dataframe tbody tr th {\n",
       "        vertical-align: top;\n",
       "    }\n",
       "\n",
       "    .dataframe thead th {\n",
       "        text-align: right;\n",
       "    }\n",
       "</style>\n",
       "<table border=\"1\" class=\"dataframe\">\n",
       "  <thead>\n",
       "    <tr style=\"text-align: right;\">\n",
       "      <th></th>\n",
       "      <th>index</th>\n",
       "      <th>Qty</th>\n",
       "      <th>Amount</th>\n",
       "      <th>ship-postal-code</th>\n",
       "    </tr>\n",
       "  </thead>\n",
       "  <tbody>\n",
       "    <tr>\n",
       "      <th>count</th>\n",
       "      <td>128975.000000</td>\n",
       "      <td>128975.000000</td>\n",
       "      <td>121180.000000</td>\n",
       "      <td>128942.000000</td>\n",
       "    </tr>\n",
       "    <tr>\n",
       "      <th>mean</th>\n",
       "      <td>64487.000000</td>\n",
       "      <td>0.904431</td>\n",
       "      <td>648.561465</td>\n",
       "      <td>463966.236509</td>\n",
       "    </tr>\n",
       "    <tr>\n",
       "      <th>std</th>\n",
       "      <td>37232.019822</td>\n",
       "      <td>0.313354</td>\n",
       "      <td>281.211687</td>\n",
       "      <td>191476.764941</td>\n",
       "    </tr>\n",
       "    <tr>\n",
       "      <th>min</th>\n",
       "      <td>0.000000</td>\n",
       "      <td>0.000000</td>\n",
       "      <td>0.000000</td>\n",
       "      <td>110001.000000</td>\n",
       "    </tr>\n",
       "    <tr>\n",
       "      <th>25%</th>\n",
       "      <td>32243.500000</td>\n",
       "      <td>1.000000</td>\n",
       "      <td>449.000000</td>\n",
       "      <td>382421.000000</td>\n",
       "    </tr>\n",
       "    <tr>\n",
       "      <th>50%</th>\n",
       "      <td>64487.000000</td>\n",
       "      <td>1.000000</td>\n",
       "      <td>605.000000</td>\n",
       "      <td>500033.000000</td>\n",
       "    </tr>\n",
       "    <tr>\n",
       "      <th>75%</th>\n",
       "      <td>96730.500000</td>\n",
       "      <td>1.000000</td>\n",
       "      <td>788.000000</td>\n",
       "      <td>600024.000000</td>\n",
       "    </tr>\n",
       "    <tr>\n",
       "      <th>max</th>\n",
       "      <td>128974.000000</td>\n",
       "      <td>15.000000</td>\n",
       "      <td>5584.000000</td>\n",
       "      <td>989898.000000</td>\n",
       "    </tr>\n",
       "  </tbody>\n",
       "</table>\n",
       "</div>"
      ],
      "text/plain": [
       "               index            Qty         Amount  ship-postal-code\n",
       "count  128975.000000  128975.000000  121180.000000     128942.000000\n",
       "mean    64487.000000       0.904431     648.561465     463966.236509\n",
       "std     37232.019822       0.313354     281.211687     191476.764941\n",
       "min         0.000000       0.000000       0.000000     110001.000000\n",
       "25%     32243.500000       1.000000     449.000000     382421.000000\n",
       "50%     64487.000000       1.000000     605.000000     500033.000000\n",
       "75%     96730.500000       1.000000     788.000000     600024.000000\n",
       "max    128974.000000      15.000000    5584.000000     989898.000000"
      ]
     },
     "execution_count": 77,
     "metadata": {},
     "output_type": "execute_result"
    }
   ],
   "source": [
    "## Checking general range of numerical data values in the dataset\n",
    "\n",
    "df.describe()"
   ]
  },
  {
   "cell_type": "code",
   "execution_count": 78,
   "id": "abac103e",
   "metadata": {
    "scrolled": true
   },
   "outputs": [
    {
     "data": {
      "text/plain": [
       "array(['INR', nan], dtype=object)"
      ]
     },
     "execution_count": 78,
     "metadata": {},
     "output_type": "execute_result"
    }
   ],
   "source": [
    "## Types of currencies in the dataset\n",
    "\n",
    "df['currency'].unique()"
   ]
  },
  {
   "cell_type": "code",
   "execution_count": 81,
   "id": "461d2d1c",
   "metadata": {
    "scrolled": true
   },
   "outputs": [
    {
     "data": {
      "text/plain": [
       "array(['SET389', 'JNE3781', 'JNE3371', ..., 'SET066', 'J0286', 'SET045'],\n",
       "      dtype=object)"
      ]
     },
     "execution_count": 81,
     "metadata": {},
     "output_type": "execute_result"
    }
   ],
   "source": [
    "df['Style'].unique()"
   ]
  },
  {
   "cell_type": "code",
   "execution_count": null,
   "id": "3559df15",
   "metadata": {},
   "outputs": [],
   "source": []
  },
  {
   "cell_type": "markdown",
   "id": "6887f173",
   "metadata": {},
   "source": [
    "## Converting Dataset to Database"
   ]
  },
  {
   "cell_type": "code",
   "execution_count": 4,
   "id": "e994fcab",
   "metadata": {},
   "outputs": [],
   "source": [
    "conn = sqlite3.connect('mydatabase.db')  # Connect to an SQLite database file or create one\n",
    "cursor = conn.cursor() # need the cursor to be able to execute SQL commands in Python"
   ]
  },
  {
   "cell_type": "code",
   "execution_count": 5,
   "id": "03463abd",
   "metadata": {},
   "outputs": [
    {
     "name": "stderr",
     "output_type": "stream",
     "text": [
      "<ipython-input-5-32a377473731>:13: DtypeWarning: Columns (23) have mixed types.Specify dtype option on import or set low_memory=False.\n",
      "  create_sqlite_db_from_csv('Amazon Sale Report.csv', 'mydatabase.db', 'amzn')\n",
      "/Users/angus/opt/anaconda3/lib/python3.8/site-packages/pandas/core/generic.py:2869: UserWarning: The spaces in these column names will not be changed. In pandas versions < 0.14, spaces were converted to underscores.\n",
      "  sql.to_sql(\n"
     ]
    },
    {
     "name": "stdout",
     "output_type": "stream",
     "text": [
      "Database mydatabase.db with table amzn created successfully!\n"
     ]
    }
   ],
   "source": [
    "def create_sqlite_db_from_csv(csv, database_name, table_name):\n",
    "    conn = sqlite3.connect(database_name)\n",
    "    with open(csv, \"r\") as file:\n",
    "        data_df = pd.read_csv(file)\n",
    "\n",
    "    data_df.to_sql(table_name, conn, if_exists=\"replace\", index=False) ## ensure duplicate dataframe is not created\n",
    "    conn.commit()\n",
    "    conn.close() ## Always close connection after use \n",
    "    print(f\"Database {database_name} with table {table_name} created successfully!\")\n",
    "\n",
    "create_sqlite_db_from_csv('Amazon Sale Report.csv', 'mydatabase.db', 'amzn')"
   ]
  },
  {
   "cell_type": "code",
   "execution_count": null,
   "id": "f284bf80",
   "metadata": {},
   "outputs": [],
   "source": []
  },
  {
   "cell_type": "markdown",
   "id": "eb664d66",
   "metadata": {},
   "source": [
    "## Connecting Database to Chatbot"
   ]
  },
  {
   "cell_type": "code",
   "execution_count": 82,
   "id": "df29f513",
   "metadata": {},
   "outputs": [],
   "source": [
    "import dotenv\n",
    "from langchain.chat_models import ChatOpenAI\n",
    "from langchain.chains import create_sql_query_chain\n",
    "\n",
    "from langchain.utilities import SQLDatabase\n",
    "from langchain.llms import OpenAI\n",
    "from langchain_experimental.sql import SQLDatabaseChain\n",
    "\n",
    "import gradio as gr\n",
    "import openai"
   ]
  },
  {
   "cell_type": "code",
   "execution_count": 85,
   "id": "91cf94d9",
   "metadata": {},
   "outputs": [],
   "source": [
    "# Creating API Key file #\n",
    "\n",
    "# Uncomment cell and insert OpenAI API key in \"your key here\"\n",
    "\n",
    "# f = open(\"creds.env\", \"w\")\n",
    "# f.write(\"your key here\")\n",
    "# f.close()"
   ]
  },
  {
   "cell_type": "code",
   "execution_count": 86,
   "id": "b88bcd8b",
   "metadata": {},
   "outputs": [
    {
     "data": {
      "text/plain": [
       "True"
      ]
     },
     "execution_count": 86,
     "metadata": {},
     "output_type": "execute_result"
    }
   ],
   "source": [
    "dotenv.load_dotenv(\"creds.env\")"
   ]
  },
  {
   "cell_type": "code",
   "execution_count": 87,
   "id": "7646b7d7",
   "metadata": {},
   "outputs": [
    {
     "name": "stdout",
     "output_type": "stream",
     "text": [
      "Running on local URL:  http://127.0.0.1:7862\n",
      "\n",
      "To create a public link, set `share=True` in `launch()`.\n"
     ]
    },
    {
     "data": {
      "text/html": [
       "<div><iframe src=\"http://127.0.0.1:7862/\" width=\"100%\" height=\"500\" allow=\"autoplay; camera; microphone; clipboard-read; clipboard-write;\" frameborder=\"0\" allowfullscreen></iframe></div>"
      ],
      "text/plain": [
       "<IPython.core.display.HTML object>"
      ]
     },
     "metadata": {},
     "output_type": "display_data"
    },
    {
     "data": {
      "text/plain": []
     },
     "execution_count": 87,
     "metadata": {},
     "output_type": "execute_result"
    },
    {
     "name": "stdout",
     "output_type": "stream",
     "text": [
      "\n",
      "\n",
      "\u001b[1m> Entering new SQLDatabaseChain chain...\u001b[0m\n",
      "how much currency was exchanged in april?\n",
      "SQLQuery:\u001b[32;1m\u001b[1;3mSELECT SUM(\"Amount\") FROM \"Amazon Sale Report\" WHERE \"Date\" LIKE '%04-%';\u001b[0m\n",
      "SQLResult: \u001b[33;1m\u001b[1;3m[(30940548.58999985,)]\u001b[0m\n",
      "Answer:\u001b[32;1m\u001b[1;3m30940548.58999985\u001b[0m\n",
      "\u001b[1m> Finished chain.\u001b[0m\n",
      "\n",
      "\n",
      "\u001b[1m> Entering new SQLDatabaseChain chain...\u001b[0m\n",
      "how much currency was exchanged in april? convert the amount to US dollars\n",
      "SQLQuery:\u001b[32;1m\u001b[1;3mSELECT currency, SUM(Amount) * (SELECT rate FROM currency_rates WHERE currency = 'INR' AND date = date('now')) AS \"Amount in USD\" FROM \"Amazon Sale Report\" WHERE Date LIKE '%04-%' GROUP BY currency LIMIT 5;\u001b[0m"
     ]
    },
    {
     "name": "stderr",
     "output_type": "stream",
     "text": [
      "Traceback (most recent call last):\n",
      "  File \"/Users/angus/opt/anaconda3/lib/python3.8/site-packages/sqlalchemy/engine/base.py\", line 1969, in _exec_single_context\n",
      "    self.dialect.do_execute(\n",
      "  File \"/Users/angus/opt/anaconda3/lib/python3.8/site-packages/sqlalchemy/engine/default.py\", line 922, in do_execute\n",
      "    cursor.execute(statement, parameters)\n",
      "sqlite3.OperationalError: no such table: currency_rates\n",
      "\n",
      "The above exception was the direct cause of the following exception:\n",
      "\n",
      "Traceback (most recent call last):\n",
      "  File \"/Users/angus/opt/anaconda3/lib/python3.8/site-packages/gradio/routes.py\", line 534, in predict\n",
      "    output = await route_utils.call_process_api(\n",
      "  File \"/Users/angus/opt/anaconda3/lib/python3.8/site-packages/gradio/route_utils.py\", line 226, in call_process_api\n",
      "    output = await app.get_blocks().process_api(\n",
      "  File \"/Users/angus/opt/anaconda3/lib/python3.8/site-packages/gradio/blocks.py\", line 1550, in process_api\n",
      "    result = await self.call_function(\n",
      "  File \"/Users/angus/opt/anaconda3/lib/python3.8/site-packages/gradio/blocks.py\", line 1185, in call_function\n",
      "    prediction = await anyio.to_thread.run_sync(\n",
      "  File \"/Users/angus/opt/anaconda3/lib/python3.8/site-packages/anyio/to_thread.py\", line 33, in run_sync\n",
      "    return await get_asynclib().run_sync_in_worker_thread(\n",
      "  File \"/Users/angus/opt/anaconda3/lib/python3.8/site-packages/anyio/_backends/_asyncio.py\", line 877, in run_sync_in_worker_thread\n",
      "    return await future\n",
      "  File \"/Users/angus/opt/anaconda3/lib/python3.8/site-packages/anyio/_backends/_asyncio.py\", line 807, in run\n",
      "    result = context.run(func, *args)\n",
      "  File \"/Users/angus/opt/anaconda3/lib/python3.8/site-packages/gradio/utils.py\", line 661, in wrapper\n",
      "    response = f(*args, **kwargs)\n",
      "  File \"<ipython-input-87-f585b25d4624>\", line 14, in chatbot\n",
      "    output = chat(input)\n",
      "  File \"<ipython-input-87-f585b25d4624>\", line 7, in chat\n",
      "    result = db_chain.run(input)\n",
      "  File \"/Users/angus/opt/anaconda3/lib/python3.8/site-packages/langchain/chains/base.py\", line 505, in run\n",
      "    return self(args[0], callbacks=callbacks, tags=tags, metadata=metadata)[\n",
      "  File \"/Users/angus/opt/anaconda3/lib/python3.8/site-packages/langchain/chains/base.py\", line 310, in __call__\n",
      "    raise e\n",
      "  File \"/Users/angus/opt/anaconda3/lib/python3.8/site-packages/langchain/chains/base.py\", line 304, in __call__\n",
      "    self._call(inputs, run_manager=run_manager)\n",
      "  File \"/Users/angus/opt/anaconda3/lib/python3.8/site-packages/langchain_experimental/sql/base.py\", line 198, in _call\n",
      "    raise exc\n",
      "  File \"/Users/angus/opt/anaconda3/lib/python3.8/site-packages/langchain_experimental/sql/base.py\", line 143, in _call\n",
      "    result = self.database.run(sql_cmd)\n",
      "  File \"/Users/angus/opt/anaconda3/lib/python3.8/site-packages/langchain/utilities/sql_database.py\", line 429, in run\n",
      "    result = self._execute(command, fetch)\n",
      "  File \"/Users/angus/opt/anaconda3/lib/python3.8/site-packages/langchain/utilities/sql_database.py\", line 407, in _execute\n",
      "    cursor = connection.execute(text(command))\n",
      "  File \"/Users/angus/opt/anaconda3/lib/python3.8/site-packages/sqlalchemy/engine/base.py\", line 1416, in execute\n",
      "    return meth(\n",
      "  File \"/Users/angus/opt/anaconda3/lib/python3.8/site-packages/sqlalchemy/sql/elements.py\", line 516, in _execute_on_connection\n",
      "    return connection._execute_clauseelement(\n",
      "  File \"/Users/angus/opt/anaconda3/lib/python3.8/site-packages/sqlalchemy/engine/base.py\", line 1639, in _execute_clauseelement\n",
      "    ret = self._execute_context(\n",
      "  File \"/Users/angus/opt/anaconda3/lib/python3.8/site-packages/sqlalchemy/engine/base.py\", line 1848, in _execute_context\n",
      "    return self._exec_single_context(\n",
      "  File \"/Users/angus/opt/anaconda3/lib/python3.8/site-packages/sqlalchemy/engine/base.py\", line 1988, in _exec_single_context\n",
      "    self._handle_dbapi_exception(\n",
      "  File \"/Users/angus/opt/anaconda3/lib/python3.8/site-packages/sqlalchemy/engine/base.py\", line 2343, in _handle_dbapi_exception\n",
      "    raise sqlalchemy_exception.with_traceback(exc_info[2]) from e\n",
      "  File \"/Users/angus/opt/anaconda3/lib/python3.8/site-packages/sqlalchemy/engine/base.py\", line 1969, in _exec_single_context\n",
      "    self.dialect.do_execute(\n",
      "  File \"/Users/angus/opt/anaconda3/lib/python3.8/site-packages/sqlalchemy/engine/default.py\", line 922, in do_execute\n",
      "    cursor.execute(statement, parameters)\n",
      "sqlalchemy.exc.OperationalError: (sqlite3.OperationalError) no such table: currency_rates\n",
      "[SQL: SELECT currency, SUM(Amount) * (SELECT rate FROM currency_rates WHERE currency = 'INR' AND date = date('now')) AS \"Amount in USD\" FROM \"Amazon Sale Report\" WHERE Date LIKE '%04-%' GROUP BY currency LIMIT 5;]\n",
      "(Background on this error at: https://sqlalche.me/e/20/e3q8)\n"
     ]
    },
    {
     "name": "stdout",
     "output_type": "stream",
     "text": [
      "\n",
      "\n",
      "\u001b[1m> Entering new SQLDatabaseChain chain...\u001b[0m\n",
      "how much currency was exchanged in april? convert the amount from rupees to US dollars\n",
      "SQLQuery:\u001b[32;1m\u001b[1;3mSELECT \"currency\", SUM(\"Amount\") * (SELECT rate FROM currency_rates WHERE currency = 'INR' AND date = date('now')) AS \"Amount in USD\" FROM \"Amazon Sale Report\" WHERE \"Date\" LIKE '%04-%' GROUP BY \"currency\" LIMIT 5;\u001b[0m"
     ]
    },
    {
     "name": "stderr",
     "output_type": "stream",
     "text": [
      "Traceback (most recent call last):\n",
      "  File \"/Users/angus/opt/anaconda3/lib/python3.8/site-packages/sqlalchemy/engine/base.py\", line 1969, in _exec_single_context\n",
      "    self.dialect.do_execute(\n",
      "  File \"/Users/angus/opt/anaconda3/lib/python3.8/site-packages/sqlalchemy/engine/default.py\", line 922, in do_execute\n",
      "    cursor.execute(statement, parameters)\n",
      "sqlite3.OperationalError: no such table: currency_rates\n",
      "\n",
      "The above exception was the direct cause of the following exception:\n",
      "\n",
      "Traceback (most recent call last):\n",
      "  File \"/Users/angus/opt/anaconda3/lib/python3.8/site-packages/gradio/routes.py\", line 534, in predict\n",
      "    output = await route_utils.call_process_api(\n",
      "  File \"/Users/angus/opt/anaconda3/lib/python3.8/site-packages/gradio/route_utils.py\", line 226, in call_process_api\n",
      "    output = await app.get_blocks().process_api(\n",
      "  File \"/Users/angus/opt/anaconda3/lib/python3.8/site-packages/gradio/blocks.py\", line 1550, in process_api\n",
      "    result = await self.call_function(\n",
      "  File \"/Users/angus/opt/anaconda3/lib/python3.8/site-packages/gradio/blocks.py\", line 1185, in call_function\n",
      "    prediction = await anyio.to_thread.run_sync(\n",
      "  File \"/Users/angus/opt/anaconda3/lib/python3.8/site-packages/anyio/to_thread.py\", line 33, in run_sync\n",
      "    return await get_asynclib().run_sync_in_worker_thread(\n",
      "  File \"/Users/angus/opt/anaconda3/lib/python3.8/site-packages/anyio/_backends/_asyncio.py\", line 877, in run_sync_in_worker_thread\n",
      "    return await future\n",
      "  File \"/Users/angus/opt/anaconda3/lib/python3.8/site-packages/anyio/_backends/_asyncio.py\", line 807, in run\n",
      "    result = context.run(func, *args)\n",
      "  File \"/Users/angus/opt/anaconda3/lib/python3.8/site-packages/gradio/utils.py\", line 661, in wrapper\n",
      "    response = f(*args, **kwargs)\n",
      "  File \"<ipython-input-87-f585b25d4624>\", line 14, in chatbot\n",
      "    output = chat(input)\n",
      "  File \"<ipython-input-87-f585b25d4624>\", line 7, in chat\n",
      "    result = db_chain.run(input)\n",
      "  File \"/Users/angus/opt/anaconda3/lib/python3.8/site-packages/langchain/chains/base.py\", line 505, in run\n",
      "    return self(args[0], callbacks=callbacks, tags=tags, metadata=metadata)[\n",
      "  File \"/Users/angus/opt/anaconda3/lib/python3.8/site-packages/langchain/chains/base.py\", line 310, in __call__\n",
      "    raise e\n",
      "  File \"/Users/angus/opt/anaconda3/lib/python3.8/site-packages/langchain/chains/base.py\", line 304, in __call__\n",
      "    self._call(inputs, run_manager=run_manager)\n",
      "  File \"/Users/angus/opt/anaconda3/lib/python3.8/site-packages/langchain_experimental/sql/base.py\", line 198, in _call\n",
      "    raise exc\n",
      "  File \"/Users/angus/opt/anaconda3/lib/python3.8/site-packages/langchain_experimental/sql/base.py\", line 143, in _call\n",
      "    result = self.database.run(sql_cmd)\n",
      "  File \"/Users/angus/opt/anaconda3/lib/python3.8/site-packages/langchain/utilities/sql_database.py\", line 429, in run\n",
      "    result = self._execute(command, fetch)\n",
      "  File \"/Users/angus/opt/anaconda3/lib/python3.8/site-packages/langchain/utilities/sql_database.py\", line 407, in _execute\n",
      "    cursor = connection.execute(text(command))\n",
      "  File \"/Users/angus/opt/anaconda3/lib/python3.8/site-packages/sqlalchemy/engine/base.py\", line 1416, in execute\n",
      "    return meth(\n",
      "  File \"/Users/angus/opt/anaconda3/lib/python3.8/site-packages/sqlalchemy/sql/elements.py\", line 516, in _execute_on_connection\n",
      "    return connection._execute_clauseelement(\n",
      "  File \"/Users/angus/opt/anaconda3/lib/python3.8/site-packages/sqlalchemy/engine/base.py\", line 1639, in _execute_clauseelement\n",
      "    ret = self._execute_context(\n",
      "  File \"/Users/angus/opt/anaconda3/lib/python3.8/site-packages/sqlalchemy/engine/base.py\", line 1848, in _execute_context\n",
      "    return self._exec_single_context(\n",
      "  File \"/Users/angus/opt/anaconda3/lib/python3.8/site-packages/sqlalchemy/engine/base.py\", line 1988, in _exec_single_context\n",
      "    self._handle_dbapi_exception(\n",
      "  File \"/Users/angus/opt/anaconda3/lib/python3.8/site-packages/sqlalchemy/engine/base.py\", line 2343, in _handle_dbapi_exception\n",
      "    raise sqlalchemy_exception.with_traceback(exc_info[2]) from e\n",
      "  File \"/Users/angus/opt/anaconda3/lib/python3.8/site-packages/sqlalchemy/engine/base.py\", line 1969, in _exec_single_context\n",
      "    self.dialect.do_execute(\n",
      "  File \"/Users/angus/opt/anaconda3/lib/python3.8/site-packages/sqlalchemy/engine/default.py\", line 922, in do_execute\n",
      "    cursor.execute(statement, parameters)\n",
      "sqlalchemy.exc.OperationalError: (sqlite3.OperationalError) no such table: currency_rates\n",
      "[SQL: SELECT \"currency\", SUM(\"Amount\") * (SELECT rate FROM currency_rates WHERE currency = 'INR' AND date = date('now')) AS \"Amount in USD\" FROM \"Amazon Sale Report\" WHERE \"Date\" LIKE '%04-%' GROUP BY \"currency\" LIMIT 5;]\n",
      "(Background on this error at: https://sqlalche.me/e/20/e3q8)\n"
     ]
    },
    {
     "name": "stdout",
     "output_type": "stream",
     "text": [
      "\n",
      "\n",
      "\u001b[1m> Entering new SQLDatabaseChain chain...\u001b[0m\n",
      "how much currency was exchanged in april? \n",
      "SQLQuery:\u001b[32;1m\u001b[1;3mSELECT SUM(\"Amount\") FROM \"Amazon Sale Report\" WHERE \"Date\" LIKE '%04-%';\u001b[0m\n",
      "SQLResult: \u001b[33;1m\u001b[1;3m[(30940548.58999985,)]\u001b[0m\n",
      "Answer:\u001b[32;1m\u001b[1;3m30940548.58999985\u001b[0m\n",
      "\u001b[1m> Finished chain.\u001b[0m\n",
      "\n",
      "\n",
      "\u001b[1m> Entering new SQLDatabaseChain chain...\u001b[0m\n",
      "how much in indian rupees was exchanged in april? convert the amount  to US dollars\n",
      "SQLQuery:\u001b[32;1m\u001b[1;3mSELECT SUM(\"Amount\") * 0.013 FROM \"Amazon Sale Report\" WHERE \"Date\" LIKE '%04-%' AND \"currency\" = 'INR' LIMIT 5;\u001b[0m\n",
      "SQLResult: \u001b[33;1m\u001b[1;3m[(402227.13166999805,)]\u001b[0m\n",
      "Answer:\u001b[32;1m\u001b[1;3mThe total amount exchanged in Indian Rupees in April is 402227.13 US Dollars.\u001b[0m\n",
      "\u001b[1m> Finished chain.\u001b[0m\n",
      "\n",
      "\n",
      "\u001b[1m> Entering new SQLDatabaseChain chain...\u001b[0m\n",
      "how much in indian rupees was exchanged in april? \n",
      "SQLQuery:\u001b[32;1m\u001b[1;3mSELECT SUM(\"Amount\") FROM \"Amazon Sale Report\" WHERE \"Date\" LIKE '%04-%' AND \"currency\" = 'INR'\u001b[0m\n",
      "SQLResult: \u001b[33;1m\u001b[1;3m[(30940548.58999985,)]\u001b[0m\n",
      "Answer:\u001b[32;1m\u001b[1;3m30940548.58999985 Indian Rupees were exchanged in April.\u001b[0m\n",
      "\u001b[1m> Finished chain.\u001b[0m\n",
      "\n",
      "\n",
      "\u001b[1m> Entering new SQLDatabaseChain chain...\u001b[0m\n",
      "how much in indian rupees was exchanged in april? convert the amount  to US dollars\n",
      "SQLQuery:\u001b[32;1m\u001b[1;3mSELECT SUM(\"Amount\") * 0.013 FROM \"Amazon Sale Report\" WHERE \"Date\" LIKE '%04-%' AND \"currency\" = 'INR' LIMIT 5;\u001b[0m\n",
      "SQLResult: \u001b[33;1m\u001b[1;3m[(402227.13166999805,)]\u001b[0m\n",
      "Answer:\u001b[32;1m\u001b[1;3mThe total amount exchanged in Indian Rupees in April is 402227.13 US Dollars.\u001b[0m\n",
      "\u001b[1m> Finished chain.\u001b[0m\n",
      "\n",
      "\n",
      "\u001b[1m> Entering new SQLDatabaseChain chain...\u001b[0m\n",
      "how much in indian rupees was exchanged in april? \n",
      "SQLQuery:\u001b[32;1m\u001b[1;3mSELECT SUM(\"Amount\") FROM \"Amazon Sale Report\" WHERE \"Date\" LIKE '%04-%' AND \"currency\" = 'INR'\u001b[0m\n",
      "SQLResult: \u001b[33;1m\u001b[1;3m[(30940548.58999985,)]\u001b[0m\n",
      "Answer:\u001b[32;1m\u001b[1;3m30940548.58999985 Indian Rupees were exchanged in April.\u001b[0m\n",
      "\u001b[1m> Finished chain.\u001b[0m\n",
      "\n",
      "\n",
      "\u001b[1m> Entering new SQLDatabaseChain chain...\u001b[0m\n",
      "how much in indian rupees was exchanged in april? convert the amount  to US dollars\n",
      "SQLQuery:\u001b[32;1m\u001b[1;3mSELECT SUM(\"Amount\") * 0.013 FROM \"Amazon Sale Report\" WHERE \"Date\" LIKE '%04-%' AND \"currency\" = 'INR' LIMIT 5;\u001b[0m\n",
      "SQLResult: \u001b[33;1m\u001b[1;3m[(402227.13166999805,)]\u001b[0m\n",
      "Answer:\u001b[32;1m\u001b[1;3mThe total amount exchanged in Indian Rupees in April is 402227.13 US Dollars.\u001b[0m\n",
      "\u001b[1m> Finished chain.\u001b[0m\n",
      "\n",
      "\n",
      "\u001b[1m> Entering new SQLDatabaseChain chain...\u001b[0m\n",
      "how much in indian rupees was exchanged in april? \n",
      "SQLQuery:\u001b[32;1m\u001b[1;3mSELECT SUM(\"Amount\") FROM \"Amazon Sale Report\" WHERE \"Date\" LIKE '%04-%' AND \"currency\" = 'INR'\u001b[0m\n",
      "SQLResult: \u001b[33;1m\u001b[1;3m[(30940548.58999985,)]\u001b[0m\n",
      "Answer:\u001b[32;1m\u001b[1;3m30940548.58999985 Indian Rupees were exchanged in April.\u001b[0m\n",
      "\u001b[1m> Finished chain.\u001b[0m\n",
      "\n",
      "\n",
      "\u001b[1m> Entering new SQLDatabaseChain chain...\u001b[0m\n",
      "how much currency was exchanged in april? convert the amount  to US dollars\n",
      "SQLQuery:\u001b[32;1m\u001b[1;3mSELECT currency, SUM(Amount) AS \"Total Amount\" FROM \"Amazon Sale Report\" WHERE Date LIKE '%04-%' GROUP BY currency ORDER BY \"Total Amount\" DESC LIMIT 5;\u001b[0m\n",
      "SQLResult: \u001b[33;1m\u001b[1;3m[('INR', 30940548.58999985), (None, None)]\u001b[0m\n",
      "Answer:\u001b[32;1m\u001b[1;3mThe total amount of currency exchanged in April was 30,940,548.59 Indian Rupees, which is equivalent to $415,945.45 US Dollars.\u001b[0m\n",
      "\u001b[1m> Finished chain.\u001b[0m\n"
     ]
    }
   ],
   "source": [
    "def chat(input):\n",
    "    \n",
    "    db = SQLDatabase.from_uri(\"sqlite:///mydatabase.db\")\n",
    "    \n",
    "    llm = OpenAI(temperature=0, verbose=True)\n",
    "    db_chain = SQLDatabaseChain.from_llm(llm, db, verbose=True)\n",
    "    result = db_chain.run(input)\n",
    "    return result\n",
    "\n",
    "def chatbot(input, history=[]):\n",
    "    \n",
    "    db = SQLDatabase.from_uri(\"sqlite:///mydatabase.db\")\n",
    "    \n",
    "    output = chat(input)\n",
    "    \n",
    "    chain = create_sql_query_chain(ChatOpenAI(temperature=0), db)\n",
    "    response = chain.invoke({\"question\": input})\n",
    "    f\n",
    "    output += \"\\n\\n Here is the SQL command used to complete your query: \\n\"\n",
    "    \n",
    "    output += response\n",
    "    \n",
    "    history.append((input, output))\n",
    "    return output\n",
    "\n",
    "\n",
    "gr.Interface(fn=chatbot,\n",
    "             inputs=\"text\",\n",
    "             outputs=\"text\").launch(debug=False)\n"
   ]
  },
  {
   "cell_type": "code",
   "execution_count": null,
   "id": "20dbe398",
   "metadata": {},
   "outputs": [],
   "source": []
  },
  {
   "cell_type": "code",
   "execution_count": null,
   "id": "c85b15fb",
   "metadata": {},
   "outputs": [],
   "source": []
  }
 ],
 "metadata": {
  "kernelspec": {
   "display_name": "Python 3 (ipykernel)",
   "language": "python",
   "name": "python3"
  },
  "language_info": {
   "codemirror_mode": {
    "name": "ipython",
    "version": 3
   },
   "file_extension": ".py",
   "mimetype": "text/x-python",
   "name": "python",
   "nbconvert_exporter": "python",
   "pygments_lexer": "ipython3",
   "version": "3.8.18"
  }
 },
 "nbformat": 4,
 "nbformat_minor": 5
}
